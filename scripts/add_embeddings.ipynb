{
 "cells": [
  {
   "cell_type": "code",
   "execution_count": 46,
   "id": "0bbdb847",
   "metadata": {},
   "outputs": [],
   "source": [
    "from langchain_google_genai import GoogleGenerativeAIEmbeddings \n",
    "from langchain_core.documents import Document\n",
    "import json\n",
    "import os\n",
    "from dotenv import load_dotenv\n",
    "\n",
    "load_dotenv()\n",
    "\n",
    "# load documents.json\n",
    "documents_json = json.load(open(\"data/docs/documents.json\"))\n",
    "\n",
    "embeddings_model_name = \"models/embedding-001\"\n",
    "embeddings_model = GoogleGenerativeAIEmbeddings(\n",
    "    model=embeddings_model_name,\n",
    "    api_key=os.environ[\"GOOGLE_API_KEY\"]\n",
    ")"
   ]
  },
  {
   "cell_type": "code",
   "execution_count": 47,
   "id": "265753b2",
   "metadata": {},
   "outputs": [],
   "source": [
    "docs = []\n",
    "for doc_json in documents_json:\n",
    "\tdocs.append(Document(page_content=doc_json[\"page_content\"], metadata=doc_json[\"metadata\"]))"
   ]
  },
  {
   "cell_type": "code",
   "execution_count": 48,
   "id": "533f13ad",
   "metadata": {},
   "outputs": [],
   "source": [
    "texts = [doc[\"page_content\"] for doc in documents_json]\n",
    "embeddings = embeddings_model.embed_documents(texts)"
   ]
  },
  {
   "cell_type": "code",
   "execution_count": 49,
   "id": "aff5a488",
   "metadata": {},
   "outputs": [],
   "source": [
    "embedded_docs = []\n",
    "for embedding, doc_json in zip(embeddings, documents_json):\n",
    "\tembedding_metadata = {\n",
    "\t\t\"embedding\": embedding,\n",
    "\t\t\"embedding_model\": embeddings_model_name,\n",
    "\t}\n",
    "\tdoc_json[\"embedding_metadata\"] = embedding_metadata\n",
    "\tembedded_docs.append(doc_json)\n",
    "\n",
    "with open(\"data/docs/gemini_embedded_docs.json\", \"w\") as f:\n",
    "\tjson.dump(embedded_docs, f)"
   ]
  }
 ],
 "metadata": {
  "kernelspec": {
   "display_name": "Python 3",
   "language": "python",
   "name": "python3"
  },
  "language_info": {
   "codemirror_mode": {
    "name": "ipython",
    "version": 3
   },
   "file_extension": ".py",
   "mimetype": "text/x-python",
   "name": "python",
   "nbconvert_exporter": "python",
   "pygments_lexer": "ipython3",
   "version": "3.9.6"
  }
 },
 "nbformat": 4,
 "nbformat_minor": 5
}
